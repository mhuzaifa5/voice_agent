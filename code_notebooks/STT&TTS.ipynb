{
 "cells": [
  {
   "cell_type": "code",
   "execution_count": 19,
   "id": "f583fe35-e09e-40df-bc1b-bb8c2360227d",
   "metadata": {},
   "outputs": [],
   "source": [
    "# import os\n",
    "# import whisper\n",
    "\n",
    "# # Add ffmpeg path manually\n",
    "# ffmpeg_path = r\"C:\\ffmpeg\\bin\"  # 🔁 Change this to your actual path\n",
    "# os.environ[\"PATH\"] += os.pathsep + ffmpeg_path\n",
    "\n",
    "# # Optional: Verify it's now available\n",
    "# import subprocess\n",
    "# subprocess.run([\"ffmpeg\", \"-version\"], check=True)\n",
    "\n",
    "# # Load Whisper model and transcribe audio\n",
    "# model = whisper.load_model(\"small\")\n",
    "# audio_path = r\"C:\\Users\\PMLS\\Downloads\\urdu.wav\"\n",
    "# result = model.transcribe(audio_path, language=\"ur\", fp16=False)\n",
    "# print(\"Transcription:\", result[\"text\"])\n"
   ]
  },
  {
   "cell_type": "code",
   "execution_count": 18,
   "id": "55847f5e-e276-4dde-a51f-c2017e1a6375",
   "metadata": {},
   "outputs": [
    {
     "name": "stdout",
     "output_type": "stream",
     "text": [
      "Transcription:  وہ کونسی چیز ہے جس کے پاس پاون تو ہوتے ہیں بگر تانگے نہیں فوت یا رولر\n"
     ]
    }
   ],
   "source": [
    "import whisper\n",
    "\n",
    "# Load the Whisper model (choose model size as needed: tiny, base, small, medium, large)\n",
    "model = whisper.load_model(\"small\")\n",
    "\n",
    "# Path to your Urdu audio file\n",
    "audio_path = r\"C:\\Users\\PMLS\\Downloads\\urdu.wav\"\n",
    "\n",
    "# Transcribe the audio, specifying language as Urdu and disabling fp16 for CPU compatibility\n",
    "result = model.transcribe(audio_path, language=\"ur\", fp16=False)\n",
    "\n",
    "# Print the recognized text\n",
    "print(\"Transcription:\", result[\"text\"])\n"
   ]
  },
  {
   "cell_type": "code",
   "execution_count": 1,
   "id": "b4ce7eeb-9e1c-45df-80a9-dceabf8f9fa5",
   "metadata": {},
   "outputs": [
    {
     "data": {
      "text/plain": [
       "0"
      ]
     },
     "execution_count": 1,
     "metadata": {},
     "output_type": "execute_result"
    }
   ],
   "source": [
    "from gtts import gTTS\n",
    "import os\n",
    "\n",
    "\n",
    "text = 'لنکاشائر، انگلینڈ'\n",
    "tts = gTTS(text, lang='ur')\n",
    "tts.save(\"urdu_speech.mp3\")\n",
    "\n",
    "# Play the audio (Windows)\n",
    "os.system(\"start urdu_speech.mp3\")\n"
   ]
  }
 ],
 "metadata": {
  "kernelspec": {
   "display_name": "Python 3 (ipykernel)",
   "language": "python",
   "name": "python3"
  },
  "language_info": {
   "codemirror_mode": {
    "name": "ipython",
    "version": 3
   },
   "file_extension": ".py",
   "mimetype": "text/x-python",
   "name": "python",
   "nbconvert_exporter": "python",
   "pygments_lexer": "ipython3",
   "version": "3.12.4"
  }
 },
 "nbformat": 4,
 "nbformat_minor": 5
}
